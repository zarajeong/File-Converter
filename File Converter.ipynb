{
 "cells": [
  {
   "cell_type": "markdown",
   "id": "1ace0d78",
   "metadata": {},
   "source": [
    "#                                    Basic Program to Convert File"
   ]
  },
  {
   "cell_type": "code",
   "execution_count": null,
   "id": "e4dd8b96",
   "metadata": {},
   "outputs": [],
   "source": [
    "# convert docx to pdf\n",
    "\n",
    "from docx2pdf import convert\n",
    "convert ('file')"
   ]
  },
  {
   "cell_type": "code",
   "execution_count": null,
   "id": "21c9acc7",
   "metadata": {},
   "outputs": [],
   "source": [
    "# convert pdf to docx \n",
    "\n",
    "from pdf2docx import Converter\n",
    "pdf_file = 'file'\n",
    "docx_file = 'file'\n",
    "\n",
    "cv = Converter(pdf_file)\n",
    "cv.convert(docx_file)"
   ]
  },
  {
   "cell_type": "code",
   "execution_count": null,
   "id": "3ebc6d13",
   "metadata": {},
   "outputs": [],
   "source": [
    "#convert file to txt\n",
    "from PyPDF2 import PdfFileReader, PdfFileWriter\n",
    "from pathlib import Path\n",
    "import re\n",
    "\n",
    "# Create file reader object\n",
    "pdf = PdfFileReader('file')\n",
    "\n",
    "# Grab the Page(s)\n",
    "page_1_object = pdf.getPage(0)\n",
    "\n",
    "# Extract Text\n",
    "page_1_text = page_1_object.extractText()\n",
    "\n",
    "# Combine the text \n",
    "with Path('file').open(mode='w') as output_file:\n",
    "    text = ''\n",
    "    \n",
    "    for page in pdf.pages:\n",
    "        text += page.extractText()\n",
    "        \n",
    "    output_file.write(text)"
   ]
  }
 ],
 "metadata": {
  "kernelspec": {
   "display_name": "Python 3 (ipykernel)",
   "language": "python",
   "name": "python3"
  },
  "language_info": {
   "codemirror_mode": {
    "name": "ipython",
    "version": 3
   },
   "file_extension": ".py",
   "mimetype": "text/x-python",
   "name": "python",
   "nbconvert_exporter": "python",
   "pygments_lexer": "ipython3",
   "version": "3.9.6"
  }
 },
 "nbformat": 4,
 "nbformat_minor": 5
}
